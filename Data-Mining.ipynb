{
  "cells": [
    {
      "cell_type": "code",
      "execution_count": null,
      "metadata": {
        "colab": {
          "base_uri": "https://localhost:8080/"
        },
        "id": "EPwwBI7K6dP3",
        "outputId": "8f17f2cb-b9a4-4109-98a8-d5c261b9b807"
      },
      "outputs": [],
      "source": [
        "pip install pandas geopandas matplotlib"
      ]
    },
    {
      "cell_type": "code",
      "execution_count": null,
      "metadata": {
        "colab": {
          "base_uri": "https://localhost:8080/"
        },
        "id": "QnK40rRifoTw",
        "outputId": "43f24eb2-9140-4546-d586-8769aba361f7"
      },
      "outputs": [],
      "source": [
        "!pip install contextily"
      ]
    },
    {
      "cell_type": "markdown",
      "metadata": {
        "id": "6e85YmgoZhfO"
      },
      "source": [
        "## Loader"
      ]
    },
    {
      "cell_type": "code",
      "execution_count": null,
      "metadata": {
        "colab": {
          "base_uri": "https://localhost:8080/",
          "height": 1000
        },
        "id": "ksyuNztLAKl8",
        "outputId": "2a94cf13-4a33-4112-9ce4-f070a54fd449"
      },
      "outputs": [],
      "source": [
        "from google.colab import files\n",
        "\n",
        "uploaded = files.upload()\n",
        "\n",
        "for filename in uploaded.keys():\n",
        "    print('Uploaded file:', filename)\n",
        "\n",
        "# Get the file path of the uploaded file\n",
        "# file_path = list(uploaded.keys())[0]"
      ]
    },
    {
      "cell_type": "code",
      "execution_count": null,
      "metadata": {
        "id": "7xfnI3nhfg_X"
      },
      "outputs": [],
      "source": [
        "import geopandas as gpd\n",
        "import matplotlib.pyplot as plt\n",
        "import contextily as ctx\n",
        "\n",
        "# Load each shapefile\n",
        "buildings = gpd.read_file('shape/buildings.shp')\n",
        "landuse = gpd.read_file('shape/landuse.shp')\n",
        "natural = gpd.read_file('shape/natural.shp')\n",
        "places = gpd.read_file('shape/places.shp')\n",
        "points = gpd.read_file('shape/points.shp')\n",
        "railways = gpd.read_file('shape/railways.shp')\n",
        "roads = gpd.read_file('shape/roads.shp')\n",
        "waterways = gpd.read_file('shape/waterways.shp')"
      ]
    },
    {
      "cell_type": "code",
      "execution_count": null,
      "metadata": {
        "id": "zHQupiEEirtZ"
      },
      "outputs": [],
      "source": [
        "#buildings"
      ]
    },
    {
      "cell_type": "code",
      "execution_count": null,
      "metadata": {
        "id": "jKLQBvR9iyeQ"
      },
      "outputs": [],
      "source": [
        "#landuse"
      ]
    },
    {
      "cell_type": "code",
      "execution_count": null,
      "metadata": {
        "id": "QT5uZPIpi5ev"
      },
      "outputs": [],
      "source": [
        "#natural"
      ]
    },
    {
      "cell_type": "code",
      "execution_count": null,
      "metadata": {
        "id": "bXBfJa-ui8BD"
      },
      "outputs": [],
      "source": [
        "#places"
      ]
    },
    {
      "cell_type": "code",
      "execution_count": null,
      "metadata": {
        "id": "NjHhHKaOi_xD"
      },
      "outputs": [],
      "source": [
        "#points"
      ]
    },
    {
      "cell_type": "code",
      "execution_count": null,
      "metadata": {
        "id": "hctrVnGIjBFE"
      },
      "outputs": [],
      "source": [
        "#railways"
      ]
    },
    {
      "cell_type": "code",
      "execution_count": null,
      "metadata": {
        "id": "dMLDgoomidkr"
      },
      "outputs": [],
      "source": [
        "#roads"
      ]
    },
    {
      "cell_type": "code",
      "execution_count": null,
      "metadata": {
        "id": "D14oc8AEjCRl"
      },
      "outputs": [],
      "source": [
        "#waterways"
      ]
    },
    {
      "cell_type": "code",
      "execution_count": null,
      "metadata": {
        "colab": {
          "background_save": true
        },
        "id": "tU0HoP2Lgwln",
        "outputId": "ef7650ff-35c5-4eb4-a4d6-61a0d1b12994"
      },
      "outputs": [],
      "source": [
        "import numpy as np\n",
        "\n",
        "# Plot each layer\n",
        "fig, ax = plt.subplots(figsize=(100, 100))\n",
        "\n",
        "# Set background color\n",
        "ax.set_facecolor('#EEEEEE')  # Set to light gray, you can use any color you want\n",
        "\n",
        "buildings.plot(ax=ax, color='#FFFFFF')\n",
        "landuse.plot(ax=ax, color='#28B463')\n",
        "natural.plot(ax=ax, color='#F8C471')\n",
        "places.plot(ax=ax, color='#99A3A4')\n",
        "points.plot(ax=ax, color='#48C9B0')\n",
        "railways.plot(ax=ax, color='#4A235A')\n",
        "roads.plot(ax=ax, color='#000000')\n",
        "waterways.plot(ax=ax, color='#85C1E9')\n",
        "\n",
        "# Get the bounding box of the GeoDataFrame\n",
        "minx, miny, maxx, maxy = buildings.total_bounds\n",
        "\n",
        "# Print the bounding box to verify values\n",
        "# print(\"Bounding box:\", minx, miny, maxx, maxy)\n",
        "\n",
        "# Generate random coordinates within the bounding box of your data\n",
        "num_points = 1000  # Number of random points to generate\n",
        "random_x = np.random.uniform(minx, maxx, num_points)\n",
        "random_y = np.random.uniform(miny, maxy, num_points)\n",
        "\n",
        "# Plot the random points\n",
        "ax.scatter(random_x, random_y, color='red', marker='x', label='Random Points')\n",
        "\n",
        "# Show the plot\n",
        "plt.show()"
      ]
    },
    {
      "cell_type": "code",
      "execution_count": null,
      "metadata": {
        "id": "Kk13jC2yWG9B"
      },
      "outputs": [],
      "source": [
        "city_zones = buildings"
      ]
    },
    {
      "cell_type": "code",
      "execution_count": null,
      "metadata": {
        "colab": {
          "base_uri": "https://localhost:8080/",
          "height": 830
        },
        "id": "Ch-HNVq_Ah9B",
        "outputId": "58df776d-0b8f-4a5d-9b72-99bc34097530"
      },
      "outputs": [],
      "source": [
        "import numpy as np\n",
        "import matplotlib.pyplot as plt\n",
        "from shapely.geometry import Point\n",
        "from shapely.geometry.polygon import Polygon\n",
        "\n",
        "class NearestNeighborClassifierManual:\n",
        "    def __init__(self):\n",
        "        self.X_train = None\n",
        "        self.y_train = None\n",
        "\n",
        "    def fit(self, X_train, y_train):\n",
        "        self.X_train = X_train\n",
        "        self.y_train = y_train\n",
        "\n",
        "    def predict(self, X_test):\n",
        "        preds = []\n",
        "        #To Do\n",
        "        for x_test in X_test:\n",
        "            dist = np.sum((self.X_train - x_test) ** 2, axis=1)\n",
        "            dist = np.sqrt(dist)\n",
        "            nnidx = np.argmin(dist)\n",
        "            preds.append(self.y_train[nnidx])\n",
        "        return np.array(preds)\n",
        "\n",
        "#Classifier\n",
        "classifier = NearestNeighborClassifierManual()\n",
        "data = np.column_stack((random_x, random_y))\n",
        "labels = np.random.randint(0, 2, 1000)\n",
        "classifier.fit(data, labels)\n",
        "\n",
        "predictions = classifier.predict(data)\n",
        "fig, ax = plt.subplots(figsize=(100, 100))\n",
        "\n",
        "#Plot Map\n",
        "ax.set_facecolor('#EEEEEE') \n",
        "\n",
        "buildings.plot(ax=ax, color='#FFFFFF')\n",
        "landuse.plot(ax=ax, color='#28B463')\n",
        "natural.plot(ax=ax, color='#F8C471')\n",
        "places.plot(ax=ax, color='#99A3A4')\n",
        "points.plot(ax=ax, color='#48C9B0')\n",
        "railways.plot(ax=ax, color='#4A235A')\n",
        "roads.plot(ax=ax, color='#000000')\n",
        "waterways.plot(ax=ax, color='#85C1E9')\n",
        "\n",
        "ax.scatter(random_x, random_y, color='red', marker='x', label='Random Points')\n",
        "\n",
        "#Show Circles for clusters\n",
        "clusters = {}\n",
        "for i, cluster_label in enumerate(predictions):\n",
        "    if cluster_label not in clusters:\n",
        "        clusters[cluster_label] = []\n",
        "    clusters[cluster_label].append((random_x[i], random_y[i]))\n",
        "\n",
        "for cluster_points in clusters.values():\n",
        "    cluster_points = np.array(cluster_points)\n",
        "    centroid = cluster_points.mean(axis=0)\n",
        "    distances = np.linalg.norm(cluster_points - centroid, axis=1)\n",
        "    radius = distances.max()\n",
        "    circle = plt.Circle(centroid, radius, color='r', fill=False)\n",
        "    ax.add_artist(circle)\n",
        "\n",
        "ax.legend(['Buildings', 'Land Use', 'Natural', 'Places', 'Points', 'Railways', 'Roads', 'Waterways', 'Random Points', 'Clusters'])\n",
        "\n",
        "plt.show()\n"
      ]
    },
    {
      "cell_type": "markdown",
      "metadata": {
        "id": "skP4X8NZYFuB"
      },
      "source": [
        "### Help Codes for referance"
      ]
    },
    {
      "cell_type": "code",
      "execution_count": null,
      "metadata": {
        "colab": {
          "base_uri": "https://localhost:8080/",
          "height": 619
        },
        "id": "8AIxsHQW4Hvf",
        "outputId": "1e11805c-e9bd-4484-ed28-9216f1ae16cd"
      },
      "outputs": [],
      "source": [
        "import numpy as np\n",
        "import matplotlib.pyplot as plt\n",
        "from sklearn.neighbors import KernelDensity\n",
        "from matplotlib.colors import Normalize\n",
        "from matplotlib.cm import ScalarMappable\n",
        "\n",
        "# Generate random points\n",
        "np.random.seed(0)\n",
        "num_points = 100\n",
        "points_x = np.random.uniform(low=0, high=10, size=num_points)\n",
        "points_y = np.random.uniform(low=0, high=10, size=num_points)\n",
        "\n",
        "# Plot random points\n",
        "plt.figure(figsize=(8, 6))\n",
        "plt.scatter(points_x, points_y, color='blue', label='Random Points')\n",
        "\n",
        "# Simulate epidemic circles\n",
        "epidemic_centers = [(3, 6), (8, 2)]  # Coordinates of epidemic centers\n",
        "epidemic_radii = [2, 1.5]  # Radii of epidemic circles\n",
        "\n",
        "# Create labels for points (0 for outside the circles, 1 for inside)\n",
        "labels = np.zeros(num_points)\n",
        "for i, (x, y) in enumerate(zip(points_x, points_y)):\n",
        "    for center, radius in zip(epidemic_centers, epidemic_radii):\n",
        "        if (x - center[0])**2 + (y - center[1])**2 <= radius**2:\n",
        "            labels[i] = 1\n",
        "            break\n",
        "\n",
        "# Use Kernel Density Estimation (KDE) to estimate intensity of zones\n",
        "X = np.column_stack((points_x, points_y))\n",
        "kde = KernelDensity(bandwidth=0.5, kernel='gaussian')\n",
        "kde.fit(X)\n",
        "\n",
        "# Create grid for heatmap\n",
        "x_grid, y_grid = np.meshgrid(np.linspace(0, 10, 100), np.linspace(0, 10, 100))\n",
        "grid_points = np.vstack([x_grid.ravel(), y_grid.ravel()]).T\n",
        "densities = np.exp(kde.score_samples(grid_points))\n",
        "densities = densities.reshape(x_grid.shape)\n",
        "\n",
        "# Plot heatmap\n",
        "cmap = plt.cm.OrRd  # Choose colormap\n",
        "norm = Normalize(vmin=densities.min(), vmax=densities.max())\n",
        "plt.contourf(x_grid, y_grid, densities, cmap=cmap, norm=norm, alpha=0.5)\n",
        "\n",
        "# Plot epidemic circles\n",
        "for center, radius in zip(epidemic_centers, epidemic_radii):\n",
        "    circle = plt.Circle(center, radius, color='red', alpha=0.3)\n",
        "    plt.gca().add_patch(circle)\n",
        "\n",
        "plt.xlabel('X')\n",
        "plt.ylabel('Y')\n",
        "plt.title('Epidemic Circle Zones with Intensity')\n",
        "plt.colorbar(ScalarMappable(norm=norm, cmap=cmap), label='Intensity')\n",
        "plt.legend()\n",
        "plt.axis('equal')\n",
        "plt.show()\n"
      ]
    },
    {
      "cell_type": "code",
      "execution_count": null,
      "metadata": {
        "colab": {
          "base_uri": "https://localhost:8080/",
          "height": 865
        },
        "id": "ikwY4kGdVkJV",
        "outputId": "0cc0eaca-6b4a-49cb-de3d-93a1fb43663a"
      },
      "outputs": [],
      "source": [
        "from sklearn.neighbors import NearestNeighbors\n",
        "import matplotlib.cm as cm\n",
        "\n",
        "# Combine random_x and random_y into a single array\n",
        "random_points = np.column_stack((random_x, random_y))\n",
        "\n",
        "# Define the number of nearest neighbors for the KNN model\n",
        "k = 1\n",
        "\n",
        "# Create and fit KNN model\n",
        "knn_model = NearestNeighbors(n_neighbors=k)\n",
        "knn_model.fit(random_points)\n",
        "\n",
        "# Find nearest neighbors and distances for each point\n",
        "distances, indices = knn_model.kneighbors(random_points)\n",
        "\n",
        "# Calculate radius based on the distance to the nearest neighbor\n",
        "epidemic_radii = distances.flatten()\n",
        "\n",
        "# Plot circles representing epidemic centers with color intensity dependent on radius\n",
        "fig, ax = plt.subplots(figsize=(10, 10))\n",
        "\n",
        "# Plot random points\n",
        "ax.scatter(random_x, random_y, color='blue', label='Random Points')\n",
        "\n",
        "# Plot circles representing epidemic centers with color intensity dependent on radius\n",
        "for i, (x, y) in enumerate(random_points):\n",
        "    circle = plt.Circle((x, y), epidemic_radii[i], color=cm.Blues(epidemic_radii[i] / np.max(epidemic_radii)), alpha=0.5)\n",
        "    ax.add_artist(circle)\n",
        "\n",
        "# Add legend\n",
        "ax.legend()\n",
        "\n",
        "# Show the plot\n",
        "plt.show()\n"
      ]
    }
  ],
  "metadata": {
    "accelerator": "GPU",
    "colab": {
      "collapsed_sections": [
        "skP4X8NZYFuB"
      ],
      "gpuType": "T4",
      "provenance": []
    },
    "kernelspec": {
      "display_name": "Python 3",
      "name": "python3"
    },
    "language_info": {
      "codemirror_mode": {
        "name": "ipython",
        "version": 3
      },
      "file_extension": ".py",
      "mimetype": "text/x-python",
      "name": "python",
      "nbconvert_exporter": "python",
      "pygments_lexer": "ipython3",
      "version": "3.11.4"
    }
  },
  "nbformat": 4,
  "nbformat_minor": 0
}
